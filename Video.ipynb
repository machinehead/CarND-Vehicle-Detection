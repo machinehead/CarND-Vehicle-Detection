{
 "cells": [
  {
   "cell_type": "code",
   "execution_count": 1,
   "metadata": {},
   "outputs": [],
   "source": [
    "%matplotlib inline\n",
    "\n",
    "import glob\n",
    "import cv2\n",
    "import numpy as np\n",
    "from matplotlib import pyplot as plt\n",
    "import pickle\n",
    "from tools import ColorBinner, ColorHistogram, ImageRemover, get_hog_features, draw_windows, get_heatmap, draw_labeled_bboxes, y_limits, find_bounding_boxes\n",
    "from sklearn.preprocessing import StandardScaler\n",
    "from sklearn.pipeline import Pipeline\n",
    "from scipy.ndimage.measurements import label\n",
    "\n",
    "from moviepy.editor import VideoFileClip\n",
    "from IPython.display import HTML"
   ]
  },
  {
   "cell_type": "code",
   "execution_count": 2,
   "metadata": {},
   "outputs": [],
   "source": [
    "clf = pickle.load(open(\"classifier.pkl\", \"rb\"))\n"
   ]
  },
  {
   "cell_type": "code",
   "execution_count": 3,
   "metadata": {},
   "outputs": [],
   "source": [
    "class ClipProcessor:\n",
    "    def __init__(self):\n",
    "        self.frame = 0\n",
    "        self.dump_detections = True\n",
    "        self.heatmaps = []\n",
    "    \n",
    "    def process_image(self, image):\n",
    "        good_windows = []\n",
    "        for window_size in [48, 64, 96, 128, 160]:\n",
    "            good_windows.extend(find_bounding_boxes(image, clf, window_size, x_range=[400, None], y_range=y_limits[window_size]))\n",
    "\n",
    "        heatmap = get_heatmap(image, good_windows)\n",
    "        heatmap[heatmap < 0.1] = 0\n",
    "        self.heatmaps.append(heatmap)\n",
    "        if len(self.heatmaps) > 6:\n",
    "            self.heatmaps.pop(0)\n",
    "\n",
    "        sum_heatmap = self.heatmaps[0].copy()\n",
    "        weight = 1\n",
    "        for w, heatmap in enumerate(self.heatmaps[1:]):\n",
    "            sum_heatmap = sum_heatmap + heatmap\n",
    "            weight += 1\n",
    "\n",
    "        sum_heatmap /= weight\n",
    "        sum_heatmap[sum_heatmap < 0.1] = 0\n",
    "            \n",
    "        labels = label(sum_heatmap)\n",
    "        draw_img = draw_labeled_bboxes(image, labels)\n",
    "\n",
    "        cv2.imwrite(\n",
    "            \"frames_raw/{}.png\".format(self.frame), \n",
    "            image[..., ::-1]\n",
    "        )\n",
    "\n",
    "        cv2.imwrite(\n",
    "            \"frames_boxed/{}.png\".format(self.frame), \n",
    "            draw_img[..., ::-1]\n",
    "        )\n",
    "        \n",
    "        self.frame += 1\n",
    "        return draw_img"
   ]
  },
  {
   "cell_type": "code",
   "execution_count": 7,
   "metadata": {},
   "outputs": [],
   "source": [
    "project_output_path = \"project_video_output.mp4\""
   ]
  },
  {
   "cell_type": "code",
   "execution_count": 8,
   "metadata": {},
   "outputs": [
    {
     "name": "stdout",
     "output_type": "stream",
     "text": [
      "[MoviePy] >>>> Building video test_video_output.mp4\n",
      "[MoviePy] Writing video test_video_output.mp4\n"
     ]
    },
    {
     "name": "stderr",
     "output_type": "stream",
     "text": [
      " 97%|█████████▋| 38/39 [00:42<00:01,  1.10s/it]\n"
     ]
    },
    {
     "name": "stdout",
     "output_type": "stream",
     "text": [
      "[MoviePy] Done.\n",
      "[MoviePy] >>>> Video ready: test_video_output.mp4 \n",
      "\n"
     ]
    }
   ],
   "source": [
    "project_video = VideoFileClip(\"project_video.mp4\")\n",
    "\n",
    "processor = ClipProcessor()\n",
    "project_video_output = project_video.fl_image(processor.process_image)\n",
    "\n",
    "# %time \n",
    "project_video_output.write_videofile(project_output_path, audio=False)"
   ]
  },
  {
   "cell_type": "code",
   "execution_count": 9,
   "metadata": {},
   "outputs": [
    {
     "data": {
      "text/html": [
       "\n",
       "<video width=\"960\" height=\"540\" controls>\n",
       "  <source src=\"test_video_output.mp4\">\n",
       "</video>\n"
      ],
      "text/plain": [
       "<IPython.core.display.HTML object>"
      ]
     },
     "execution_count": 9,
     "metadata": {},
     "output_type": "execute_result"
    }
   ],
   "source": [
    "HTML(\"\"\"\n",
    "<video width=\"960\" height=\"540\" controls>\n",
    "  <source src=\"{0}\">\n",
    "</video>\n",
    "\"\"\".format(project_output_path))"
   ]
  }
 ],
 "metadata": {
  "kernelspec": {
   "display_name": "Python 3",
   "language": "python",
   "name": "python3"
  },
  "language_info": {
   "codemirror_mode": {
    "name": "ipython",
    "version": 3
   },
   "file_extension": ".py",
   "mimetype": "text/x-python",
   "name": "python",
   "nbconvert_exporter": "python",
   "pygments_lexer": "ipython3",
   "version": "3.5.2"
  },
  "widgets": {
   "state": {},
   "version": "1.1.2"
  }
 },
 "nbformat": 4,
 "nbformat_minor": 2
}
